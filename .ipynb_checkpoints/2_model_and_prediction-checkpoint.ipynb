{
 "cells": [
  {
   "cell_type": "markdown",
   "metadata": {},
   "source": [
    "#### Imports"
   ]
  },
  {
   "cell_type": "code",
   "execution_count": 1,
   "metadata": {
    "scrolled": true
   },
   "outputs": [],
   "source": [
    "import pandas as pd\n",
    "import seaborn as sns\n",
    "import numpy as np\n",
    "import math\n",
    "from matplotlib.pyplot import figure\n",
    "\n",
    "import sys\n",
    "sys.path.append('..')\n",
    "\n",
    "import warnings\n",
    "warnings.simplefilter(action='ignore', category=FutureWarning)\n",
    "warnings.simplefilter(action='ignore', category=DeprecationWarning)\n",
    "\n",
    "from src.visualization.visualize import lr_coeff"
   ]
  },
  {
   "cell_type": "markdown",
   "metadata": {},
   "source": [
    "#### Read Data"
   ]
  },
  {
   "cell_type": "code",
   "execution_count": 2,
   "metadata": {},
   "outputs": [
    {
     "name": "stdout",
     "output_type": "stream",
     "text": [
      "18445 houses\n"
     ]
    }
   ],
   "source": [
    "df = pd.read_csv('../house_sales.csv')\n",
    "df.drop_duplicates(inplace=True)\n",
    "print('%d houses' % df.shape[0])"
   ]
  },
  {
   "cell_type": "markdown",
   "metadata": {},
   "source": [
    "## Price prediction"
   ]
  },
  {
   "cell_type": "markdown",
   "metadata": {},
   "source": [
    "### Build model"
   ]
  },
  {
   "cell_type": "markdown",
   "metadata": {},
   "source": [
    "Lets define the features to be used in the prediction model, separating them between categorical and numeric."
   ]
  },
  {
   "cell_type": "code",
   "execution_count": 3,
   "metadata": {},
   "outputs": [],
   "source": [
    "num_feat = [\n",
    "    'num_bed',\n",
    "    'num_bath',\n",
    "    'size_house',\n",
    "    'size_lot',\n",
    "    'num_floors',\n",
    "    'condition',\n",
    "    'size_basement',\n",
    "    'year_built',\n",
    "    'renovation_date',\n",
    "    'latitude',\n",
    "    'longitude',\n",
    "    'avg_size_neighbor_houses',\n",
    "    'avg_size_neighbor_lot',\n",
    "    'is_waterfront'\n",
    "]\n",
    "\n",
    "cat_feat = [\n",
    "    'zip'\n",
    "]"
   ]
  },
  {
   "cell_type": "markdown",
   "metadata": {},
   "source": [
    "The features that are not making into the model and thus will have no effect on the outcome are:"
   ]
  },
  {
   "cell_type": "code",
   "execution_count": 4,
   "metadata": {},
   "outputs": [
    {
     "name": "stdout",
     "output_type": "stream",
     "text": [
      "price\n"
     ]
    }
   ],
   "source": [
    "print(*(set(df.columns.tolist()) - set(cat_feat) - set(num_feat)))"
   ]
  },
  {
   "cell_type": "markdown",
   "metadata": {},
   "source": [
    "Now we define our preprocessor and the classifier to be used in the model. \n",
    "\n",
    "The preprocessor applies transformations to our features. Numerics have their gaps completed with the mean and have their distribution stardadized, to improve model performace. \n",
    "\n",
    "Categoricals have the gaps filled with the most frequent class and go trough one-hot-encoding to be properly used by the model. Encoding converts categoricals to a numeric representation, a feature with 3 possible classes is converted to 3 new boolean features responsible for representing each element's class, these new features with 1 or 0 are the ones used to fit our model.\n",
    "\n",
    "The classifier used will be Linear regression, as our data exploration showed a good linear relation between most features and the target variable."
   ]
  },
  {
   "cell_type": "code",
   "execution_count": 5,
   "metadata": {},
   "outputs": [],
   "source": [
    "from src.features.transformers import preprocessor\n",
    "pp = preprocessor(num_feat, cat_feat)\n",
    "\n",
    "from sklearn.linear_model import LinearRegression\n",
    "clf = LinearRegression()\n",
    "\n",
    "from src.models.build_model import build_model\n",
    "model = build_model(pp, clf)"
   ]
  },
  {
   "cell_type": "markdown",
   "metadata": {},
   "source": [
    "### Split into training and test "
   ]
  },
  {
   "cell_type": "code",
   "execution_count": 6,
   "metadata": {},
   "outputs": [],
   "source": [
    "from sklearn.model_selection import train_test_split\n",
    "\n",
    "df_train, df_test = train_test_split(df, test_size=0.2)"
   ]
  },
  {
   "cell_type": "markdown",
   "metadata": {},
   "source": [
    "### Fit model\n",
    "\n",
    "Split the data into training and data sets."
   ]
  },
  {
   "cell_type": "code",
   "execution_count": 7,
   "metadata": {},
   "outputs": [],
   "source": [
    "model.fit(df_train, df_train['price']);"
   ]
  },
  {
   "cell_type": "markdown",
   "metadata": {},
   "source": [
    "### Make prediction"
   ]
  },
  {
   "cell_type": "code",
   "execution_count": 8,
   "metadata": {},
   "outputs": [],
   "source": [
    "y_test = df_test['price']\n",
    "y_pred =  model.predict(df_test)"
   ]
  },
  {
   "cell_type": "markdown",
   "metadata": {},
   "source": [
    "### Measure Quality"
   ]
  },
  {
   "cell_type": "code",
   "execution_count": 9,
   "metadata": {
    "scrolled": true
   },
   "outputs": [
    {
     "name": "stdout",
     "output_type": "stream",
     "text": [
      "LR Scores:\n",
      "R^2: 0.7911\n",
      "Sqrt Mean Squared Error: 156920.5106\n"
     ]
    }
   ],
   "source": [
    "from sklearn import metrics\n",
    "\n",
    "print('LR Scores:')\n",
    "print('R^2: %.4f' % (metrics.r2_score(y_test, y_pred)))\n",
    "print('Sqrt Mean Squared Error: %.4f' % (math.sqrt(metrics.mean_squared_error(y_test, y_pred))))"
   ]
  },
  {
   "cell_type": "markdown",
   "metadata": {},
   "source": [
    "#### R squared\n",
    "R^2 stands for coeffiecient of determination, it indicates the strenght of the relation, as obtained by out model, between the independent variables and the target, it goes from 0 to 1, with 1 being best. \n",
    "\n",
    "The linear regression model obtained R^2 equal to 0.78, this is quite good and indicates that our model is doing a good job at predicting prices."
   ]
  },
  {
   "cell_type": "markdown",
   "metadata": {},
   "source": [
    "#### SqRoot of the Mean Squared Error\n",
    "The RMSR indicates how much our prediction usually differs from the real price. \n",
    "\n",
    "Being between 150k and 170k is a reasonable error.\n",
    "\n",
    "This value probably could be improved using more sophisticated models. It could also be considered the distribution of these errors, if they occur mostly on the pricier outliers, it would be less impactful."
   ]
  },
  {
   "cell_type": "markdown",
   "metadata": {},
   "source": [
    "### Model interpretation"
   ]
  },
  {
   "cell_type": "markdown",
   "metadata": {},
   "source": [
    "Interpreting the linear model coefficients."
   ]
  },
  {
   "cell_type": "code",
   "execution_count": 10,
   "metadata": {},
   "outputs": [
    {
     "data": {
      "text/html": [
       "<div>\n",
       "<style scoped>\n",
       "    .dataframe tbody tr th:only-of-type {\n",
       "        vertical-align: middle;\n",
       "    }\n",
       "\n",
       "    .dataframe tbody tr th {\n",
       "        vertical-align: top;\n",
       "    }\n",
       "\n",
       "    .dataframe thead th {\n",
       "        text-align: right;\n",
       "    }\n",
       "</style>\n",
       "<table border=\"1\" class=\"dataframe\">\n",
       "  <thead>\n",
       "    <tr style=\"text-align: right;\">\n",
       "      <th></th>\n",
       "      <th>Coefficient</th>\n",
       "    </tr>\n",
       "    <tr>\n",
       "      <th>Feature</th>\n",
       "      <th></th>\n",
       "    </tr>\n",
       "  </thead>\n",
       "  <tbody>\n",
       "    <tr>\n",
       "      <td>size_house</td>\n",
       "      <td>243108.547630</td>\n",
       "    </tr>\n",
       "    <tr>\n",
       "      <td>is_waterfront</td>\n",
       "      <td>77593.224899</td>\n",
       "    </tr>\n",
       "    <tr>\n",
       "      <td>latitude</td>\n",
       "      <td>33684.847182</td>\n",
       "    </tr>\n",
       "    <tr>\n",
       "      <td>avg_size_neighbor_houses</td>\n",
       "      <td>32225.239525</td>\n",
       "    </tr>\n",
       "    <tr>\n",
       "      <td>num_bath</td>\n",
       "      <td>22430.802394</td>\n",
       "    </tr>\n",
       "    <tr>\n",
       "      <td>condition</td>\n",
       "      <td>16761.478464</td>\n",
       "    </tr>\n",
       "    <tr>\n",
       "      <td>size_lot</td>\n",
       "      <td>16467.932370</td>\n",
       "    </tr>\n",
       "    <tr>\n",
       "      <td>renovation_date</td>\n",
       "      <td>9307.018680</td>\n",
       "    </tr>\n",
       "    <tr>\n",
       "      <td>avg_size_neighbor_lot</td>\n",
       "      <td>-6032.877510</td>\n",
       "    </tr>\n",
       "    <tr>\n",
       "      <td>year_built</td>\n",
       "      <td>-8205.012796</td>\n",
       "    </tr>\n",
       "  </tbody>\n",
       "</table>\n",
       "</div>"
      ],
      "text/plain": [
       "                            Coefficient\n",
       "Feature                                \n",
       "size_house                243108.547630\n",
       "is_waterfront              77593.224899\n",
       "latitude                   33684.847182\n",
       "avg_size_neighbor_houses   32225.239525\n",
       "num_bath                   22430.802394\n",
       "condition                  16761.478464\n",
       "size_lot                   16467.932370\n",
       "renovation_date             9307.018680\n",
       "avg_size_neighbor_lot      -6032.877510\n",
       "year_built                 -8205.012796"
      ]
     },
     "execution_count": 10,
     "metadata": {},
     "output_type": "execute_result"
    }
   ],
   "source": [
    "coeff = lr_coeff(pp, clf)\n",
    "coeff.head(10)"
   ]
  },
  {
   "cell_type": "markdown",
   "metadata": {},
   "source": [
    "House size and waterfront status are the most important factors for the price of a home, as expected being larger and water front means a more expensive property. \n",
    "\n",
    "The size of nearby homes also plays a important role, larger nearby homes increase the property price tag, indicating that rich neiborhoods are desired by buyers. \n",
    "\n",
    "Higher latitudes increase price, so the north region is preferred. \n",
    "\n",
    "As for the house's interior space, the number of bathrooms was the most related to the price tag. Possibly due to its inherit relation with the house size."
   ]
  }
 ],
 "metadata": {
  "kernelspec": {
   "display_name": "Python 3",
   "language": "python",
   "name": "python3"
  },
  "language_info": {
   "codemirror_mode": {
    "name": "ipython",
    "version": 3
   },
   "file_extension": ".py",
   "mimetype": "text/x-python",
   "name": "python",
   "nbconvert_exporter": "python",
   "pygments_lexer": "ipython3",
   "version": "3.7.4"
  },
  "latex_envs": {
   "LaTeX_envs_menu_present": true,
   "autoclose": false,
   "autocomplete": true,
   "bibliofile": "biblio.bib",
   "cite_by": "apalike",
   "current_citInitial": 1,
   "eqLabelWithNumbers": true,
   "eqNumInitial": 1,
   "hotkeys": {
    "equation": "Ctrl-E",
    "itemize": "Ctrl-I"
   },
   "labels_anchors": false,
   "latex_user_defs": false,
   "report_style_numbering": false,
   "user_envs_cfg": false
  }
 },
 "nbformat": 4,
 "nbformat_minor": 4
}
