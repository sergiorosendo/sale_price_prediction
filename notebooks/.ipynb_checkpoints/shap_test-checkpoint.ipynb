{
 "cells": [
  {
   "cell_type": "markdown",
   "metadata": {},
   "source": [
    "#### Imports"
   ]
  },
  {
   "cell_type": "code",
   "execution_count": 1,
   "metadata": {
    "scrolled": true
   },
   "outputs": [],
   "source": [
    "import sys\n",
    "sys.path.append('..')\n",
    "\n",
    "import warnings\n",
    "warnings.simplefilter(action='ignore', category=FutureWarning)\n",
    "warnings.simplefilter(action='ignore', category=DeprecationWarning)"
   ]
  },
  {
   "cell_type": "markdown",
   "metadata": {},
   "source": [
    "#### Read Data"
   ]
  },
  {
   "cell_type": "code",
   "execution_count": 2,
   "metadata": {},
   "outputs": [
    {
     "name": "stdout",
     "output_type": "stream",
     "text": [
      "18445 houses\n"
     ]
    }
   ],
   "source": [
    "import pandas as pd\n",
    "\n",
    "df = pd.read_csv('../house_sales.csv')\n",
    "df.drop_duplicates(inplace=True)\n",
    "print('%d houses' % df.shape[0])"
   ]
  },
  {
   "cell_type": "markdown",
   "metadata": {},
   "source": [
    "## Price prediction"
   ]
  },
  {
   "cell_type": "markdown",
   "metadata": {},
   "source": [
    "### Build model"
   ]
  },
  {
   "cell_type": "markdown",
   "metadata": {},
   "source": [
    "Lets define the features to be used in the prediction model, separating them between categorical and numeric."
   ]
  },
  {
   "cell_type": "code",
   "execution_count": 3,
   "metadata": {},
   "outputs": [],
   "source": [
    "num_feat = [\n",
    "    'num_bed',\n",
    "    'num_bath',\n",
    "    'size_house',\n",
    "    'size_lot',\n",
    "    'num_floors',\n",
    "    'condition',\n",
    "    'size_basement',\n",
    "    'year_built',\n",
    "    'renovation_date',\n",
    "    'latitude',\n",
    "    'longitude',\n",
    "    'avg_size_neighbor_houses',\n",
    "    'avg_size_neighbor_lot',\n",
    "    'is_waterfront'\n",
    "]\n",
    "\n",
    "cat_feat = [\n",
    "    'zip'\n",
    "]"
   ]
  },
  {
   "cell_type": "markdown",
   "metadata": {},
   "source": [
    "The features that are not making into the model and thus will have no effect on the outcome are:"
   ]
  },
  {
   "cell_type": "code",
   "execution_count": 4,
   "metadata": {},
   "outputs": [
    {
     "name": "stdout",
     "output_type": "stream",
     "text": [
      "price\n"
     ]
    }
   ],
   "source": [
    "print(*(set(df.columns.tolist()) - set(cat_feat) - set(num_feat)))"
   ]
  },
  {
   "cell_type": "markdown",
   "metadata": {},
   "source": [
    "Now we define our preprocessor and the classifier to be used in the model. \n",
    "\n",
    "The preprocessor applies transformations to our features. Numerics have their gaps completed with the mean and have their distribution stardadized, to improve model performace. \n",
    "\n",
    "Categoricals have the gaps filled with the most frequent class and go trough one-hot-encoding to be properly used by the model. Encoding converts categoricals to a numeric representation, a feature with 3 possible classes is converted to 3 new boolean features responsible for representing each element's class, these new features with 1 or 0 are the ones used to fit our model.\n",
    "\n",
    "The classifier used will be Linear regression, as our data exploration showed a good linear relation between most features and the target variable."
   ]
  },
  {
   "cell_type": "code",
   "execution_count": 6,
   "metadata": {},
   "outputs": [],
   "source": [
    "from src.features.transformers import preprocessor\n",
    "pp = preprocessor(num_feat, cat_feat)\n",
    "\n",
    "from sklearn.ensemble import RandomForestClassifier\n",
    "clf = RandomForestClassifier()\n",
    "\n",
    "from src.models.build_model import build_model\n",
    "model = build_model(pp, clf)"
   ]
  },
  {
   "cell_type": "markdown",
   "metadata": {},
   "source": [
    "### Split into training and test "
   ]
  },
  {
   "cell_type": "code",
   "execution_count": 7,
   "metadata": {},
   "outputs": [
    {
     "name": "stdout",
     "output_type": "stream",
     "text": [
      "Train:\t14756 houses\n",
      "Test:\t3689 houses\n"
     ]
    }
   ],
   "source": [
    "from sklearn.model_selection import train_test_split\n",
    "\n",
    "df_train, df_test = train_test_split(df, test_size=0.2)\n",
    "print('Train:\\t%d houses' % df_train.shape[0])\n",
    "print('Test:\\t%d houses' % df_test.shape[0])"
   ]
  },
  {
   "cell_type": "markdown",
   "metadata": {},
   "source": [
    "### Fit model\n",
    "\n",
    "Split the data into training and data sets."
   ]
  },
  {
   "cell_type": "code",
   "execution_count": null,
   "metadata": {},
   "outputs": [],
   "source": [
    "model.fit(df_train, df_train['price']);"
   ]
  },
  {
   "cell_type": "markdown",
   "metadata": {},
   "source": [
    "### Make prediction"
   ]
  },
  {
   "cell_type": "code",
   "execution_count": null,
   "metadata": {},
   "outputs": [],
   "source": [
    "y_test = df_test['price']\n",
    "y_pred =  model.predict(df_test)"
   ]
  },
  {
   "cell_type": "markdown",
   "metadata": {},
   "source": [
    "### Measure Quality"
   ]
  },
  {
   "cell_type": "code",
   "execution_count": null,
   "metadata": {
    "scrolled": true
   },
   "outputs": [],
   "source": [
    "from math import sqrt\n",
    "from sklearn import metrics\n",
    "\n",
    "print('LR Scores:')\n",
    "print('R^2: %.4f' % (metrics.r2_score(y_test, y_pred)))\n",
    "print('Sqrt Mean Squared Error: %.4f' % (sqrt(metrics.mean_squared_error(y_test, y_pred))))"
   ]
  },
  {
   "cell_type": "markdown",
   "metadata": {},
   "source": [
    "#### R squared\n",
    "R^2 stands for coeffiecient of determination, it indicates the strenght of the relation, as obtained by out model, between the independent variables and the target, it goes from 0 to 1, with 1 being best. \n",
    "\n",
    "The linear regression model obtained R^2 equal to 0.78, this is quite good and indicates that our model is doing a good job at predicting prices."
   ]
  },
  {
   "cell_type": "markdown",
   "metadata": {},
   "source": [
    "#### SqRoot of the Mean Squared Error\n",
    "The RMSR indicates how much our prediction usually differs from the real price. \n",
    "\n",
    "Being between 150k and 170k is a reasonable error.\n",
    "\n",
    "This value probably could be improved using more sophisticated models. It could also be considered the distribution of these errors, if they occur mostly on the pricier outliers, it would be less impactful."
   ]
  },
  {
   "cell_type": "markdown",
   "metadata": {},
   "source": [
    "### Model interpretation"
   ]
  },
  {
   "cell_type": "code",
   "execution_count": null,
   "metadata": {},
   "outputs": [],
   "source": [
    "import shap\n",
    "\n",
    "rf_shap = shap.TreeExplainer(rf)\n",
    "shap.initjs()"
   ]
  },
  {
   "cell_type": "markdown",
   "metadata": {},
   "source": [
    "Interpreting the linear model coefficients."
   ]
  },
  {
   "cell_type": "markdown",
   "metadata": {},
   "source": [
    "House size and waterfront status are the most important factors for the price of a home, as expected being larger and water front means a more expensive property. \n",
    "\n",
    "The size of nearby homes also plays a important role, larger nearby homes increase the property price tag, indicating that rich neiborhoods are desired by buyers. \n",
    "\n",
    "Higher latitudes increase price, so the north region is preferred. \n",
    "\n",
    "As for the house's interior space, the number of bathrooms was the most related to the price tag. Possibly due to its inherit relation with the house size."
   ]
  }
 ],
 "metadata": {
  "kernelspec": {
   "display_name": "Python 3",
   "language": "python",
   "name": "python3"
  },
  "language_info": {
   "codemirror_mode": {
    "name": "ipython",
    "version": 3
   },
   "file_extension": ".py",
   "mimetype": "text/x-python",
   "name": "python",
   "nbconvert_exporter": "python",
   "pygments_lexer": "ipython3",
   "version": "3.7.6"
  },
  "latex_envs": {
   "LaTeX_envs_menu_present": true,
   "autoclose": false,
   "autocomplete": true,
   "bibliofile": "biblio.bib",
   "cite_by": "apalike",
   "current_citInitial": 1,
   "eqLabelWithNumbers": true,
   "eqNumInitial": 1,
   "hotkeys": {
    "equation": "Ctrl-E",
    "itemize": "Ctrl-I"
   },
   "labels_anchors": false,
   "latex_user_defs": false,
   "report_style_numbering": false,
   "user_envs_cfg": false
  }
 },
 "nbformat": 4,
 "nbformat_minor": 4
}
