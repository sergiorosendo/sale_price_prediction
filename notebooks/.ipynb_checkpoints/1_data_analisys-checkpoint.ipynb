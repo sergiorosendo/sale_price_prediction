{
 "cells": [
  {
   "cell_type": "markdown",
   "metadata": {},
   "source": [
    "# House Sales Data Analisys #"
   ]
  },
  {
   "cell_type": "code",
   "execution_count": 6,
   "metadata": {
    "scrolled": true
   },
   "outputs": [],
   "source": [
    "import pandas as pd\n",
    "import seaborn as sns\n",
    "import numpy as np\n",
    "import sys\n",
    "sys.path.append('..')\n",
    "\n",
    "#import warnings\n",
    "#warnings.filterwarnings('ignore')"
   ]
  },
  {
   "cell_type": "markdown",
   "metadata": {},
   "source": [
    "### Read Data"
   ]
  },
  {
   "cell_type": "code",
   "execution_count": 2,
   "metadata": {},
   "outputs": [
    {
     "name": "stdout",
     "output_type": "stream",
     "text": [
      "(251617, 300)\n"
     ]
    },
    {
     "data": {
      "text/html": [
       "<div>\n",
       "<style scoped>\n",
       "    .dataframe tbody tr th:only-of-type {\n",
       "        vertical-align: middle;\n",
       "    }\n",
       "\n",
       "    .dataframe tbody tr th {\n",
       "        vertical-align: top;\n",
       "    }\n",
       "\n",
       "    .dataframe thead th {\n",
       "        text-align: right;\n",
       "    }\n",
       "</style>\n",
       "<table border=\"1\" class=\"dataframe\">\n",
       "  <thead>\n",
       "    <tr style=\"text-align: right;\">\n",
       "      <th></th>\n",
       "      <th>cssocialsecno_encrypted</th>\n",
       "      <th>port_in_flag</th>\n",
       "      <th>payment_method</th>\n",
       "      <th>inar_rate_plan</th>\n",
       "      <th>rateplan_fee</th>\n",
       "      <th>rateplan_discount_fee</th>\n",
       "      <th>rateplan_discount_qty</th>\n",
       "      <th>services_fee</th>\n",
       "      <th>services_discount_fee</th>\n",
       "      <th>services_discount_qty</th>\n",
       "      <th>...</th>\n",
       "      <th>bytes_used_m1</th>\n",
       "      <th>bytes_used_m0</th>\n",
       "      <th>bytes_exceeded_m5</th>\n",
       "      <th>bytes_exceeded_m4</th>\n",
       "      <th>bytes_exceeded_m3</th>\n",
       "      <th>bytes_exceeded_m2</th>\n",
       "      <th>bytes_exceeded_m1</th>\n",
       "      <th>bytes_exceeded_m0</th>\n",
       "      <th>contract_loyalty_flag</th>\n",
       "      <th>complainer</th>\n",
       "    </tr>\n",
       "  </thead>\n",
       "  <tbody>\n",
       "    <tr>\n",
       "      <th>0</th>\n",
       "      <td>620820029050101583</td>\n",
       "      <td>NaN</td>\n",
       "      <td>Boleto</td>\n",
       "      <td>N</td>\n",
       "      <td>0.0</td>\n",
       "      <td>0.0</td>\n",
       "      <td>NaN</td>\n",
       "      <td>0.0</td>\n",
       "      <td>0.0</td>\n",
       "      <td>NaN</td>\n",
       "      <td>...</td>\n",
       "      <td>NaN</td>\n",
       "      <td>NaN</td>\n",
       "      <td>NaN</td>\n",
       "      <td>NaN</td>\n",
       "      <td>NaN</td>\n",
       "      <td>NaN</td>\n",
       "      <td>NaN</td>\n",
       "      <td>NaN</td>\n",
       "      <td>0.0</td>\n",
       "      <td>0</td>\n",
       "    </tr>\n",
       "    <tr>\n",
       "      <th>1</th>\n",
       "      <td>620820029050101583</td>\n",
       "      <td>NaN</td>\n",
       "      <td>Boleto</td>\n",
       "      <td>N</td>\n",
       "      <td>0.0</td>\n",
       "      <td>0.0</td>\n",
       "      <td>NaN</td>\n",
       "      <td>0.0</td>\n",
       "      <td>0.0</td>\n",
       "      <td>NaN</td>\n",
       "      <td>...</td>\n",
       "      <td>0.0</td>\n",
       "      <td>0.0</td>\n",
       "      <td>NaN</td>\n",
       "      <td>NaN</td>\n",
       "      <td>0.0</td>\n",
       "      <td>0.0</td>\n",
       "      <td>0.0</td>\n",
       "      <td>0.0</td>\n",
       "      <td>0.0</td>\n",
       "      <td>0</td>\n",
       "    </tr>\n",
       "    <tr>\n",
       "      <th>2</th>\n",
       "      <td>620820029050101583</td>\n",
       "      <td>NaN</td>\n",
       "      <td>Boleto</td>\n",
       "      <td>N</td>\n",
       "      <td>0.0</td>\n",
       "      <td>0.0</td>\n",
       "      <td>NaN</td>\n",
       "      <td>0.0</td>\n",
       "      <td>0.0</td>\n",
       "      <td>NaN</td>\n",
       "      <td>...</td>\n",
       "      <td>0.0</td>\n",
       "      <td>0.0</td>\n",
       "      <td>NaN</td>\n",
       "      <td>NaN</td>\n",
       "      <td>0.0</td>\n",
       "      <td>0.0</td>\n",
       "      <td>0.0</td>\n",
       "      <td>0.0</td>\n",
       "      <td>0.0</td>\n",
       "      <td>0</td>\n",
       "    </tr>\n",
       "    <tr>\n",
       "      <th>3</th>\n",
       "      <td>620820029050101583</td>\n",
       "      <td>NaN</td>\n",
       "      <td>Boleto</td>\n",
       "      <td>N</td>\n",
       "      <td>0.0</td>\n",
       "      <td>0.0</td>\n",
       "      <td>NaN</td>\n",
       "      <td>0.0</td>\n",
       "      <td>0.0</td>\n",
       "      <td>NaN</td>\n",
       "      <td>...</td>\n",
       "      <td>NaN</td>\n",
       "      <td>NaN</td>\n",
       "      <td>NaN</td>\n",
       "      <td>NaN</td>\n",
       "      <td>NaN</td>\n",
       "      <td>NaN</td>\n",
       "      <td>NaN</td>\n",
       "      <td>NaN</td>\n",
       "      <td>0.0</td>\n",
       "      <td>0</td>\n",
       "    </tr>\n",
       "    <tr>\n",
       "      <th>4</th>\n",
       "      <td>620820029050101583</td>\n",
       "      <td>NaN</td>\n",
       "      <td>Boleto</td>\n",
       "      <td>N</td>\n",
       "      <td>0.0</td>\n",
       "      <td>0.0</td>\n",
       "      <td>NaN</td>\n",
       "      <td>0.0</td>\n",
       "      <td>0.0</td>\n",
       "      <td>NaN</td>\n",
       "      <td>...</td>\n",
       "      <td>NaN</td>\n",
       "      <td>NaN</td>\n",
       "      <td>NaN</td>\n",
       "      <td>NaN</td>\n",
       "      <td>NaN</td>\n",
       "      <td>NaN</td>\n",
       "      <td>NaN</td>\n",
       "      <td>NaN</td>\n",
       "      <td>0.0</td>\n",
       "      <td>0</td>\n",
       "    </tr>\n",
       "  </tbody>\n",
       "</table>\n",
       "<p>5 rows × 300 columns</p>\n",
       "</div>"
      ],
      "text/plain": [
       "  cssocialsecno_encrypted  port_in_flag payment_method inar_rate_plan  \\\n",
       "0      620820029050101583           NaN         Boleto              N   \n",
       "1      620820029050101583           NaN         Boleto              N   \n",
       "2      620820029050101583           NaN         Boleto              N   \n",
       "3      620820029050101583           NaN         Boleto              N   \n",
       "4      620820029050101583           NaN         Boleto              N   \n",
       "\n",
       "   rateplan_fee  rateplan_discount_fee  rateplan_discount_qty  services_fee  \\\n",
       "0           0.0                    0.0                    NaN           0.0   \n",
       "1           0.0                    0.0                    NaN           0.0   \n",
       "2           0.0                    0.0                    NaN           0.0   \n",
       "3           0.0                    0.0                    NaN           0.0   \n",
       "4           0.0                    0.0                    NaN           0.0   \n",
       "\n",
       "   services_discount_fee  services_discount_qty  ...  bytes_used_m1  \\\n",
       "0                    0.0                    NaN  ...            NaN   \n",
       "1                    0.0                    NaN  ...            0.0   \n",
       "2                    0.0                    NaN  ...            0.0   \n",
       "3                    0.0                    NaN  ...            NaN   \n",
       "4                    0.0                    NaN  ...            NaN   \n",
       "\n",
       "   bytes_used_m0  bytes_exceeded_m5  bytes_exceeded_m4  bytes_exceeded_m3  \\\n",
       "0            NaN                NaN                NaN                NaN   \n",
       "1            0.0                NaN                NaN                0.0   \n",
       "2            0.0                NaN                NaN                0.0   \n",
       "3            NaN                NaN                NaN                NaN   \n",
       "4            NaN                NaN                NaN                NaN   \n",
       "\n",
       "   bytes_exceeded_m2  bytes_exceeded_m1  bytes_exceeded_m0  \\\n",
       "0                NaN                NaN                NaN   \n",
       "1                0.0                0.0                0.0   \n",
       "2                0.0                0.0                0.0   \n",
       "3                NaN                NaN                NaN   \n",
       "4                NaN                NaN                NaN   \n",
       "\n",
       "   contract_loyalty_flag  complainer  \n",
       "0                    0.0           0  \n",
       "1                    0.0           0  \n",
       "2                    0.0           0  \n",
       "3                    0.0           0  \n",
       "4                    0.0           0  \n",
       "\n",
       "[5 rows x 300 columns]"
      ]
     },
     "execution_count": 2,
     "metadata": {},
     "output_type": "execute_result"
    }
   ],
   "source": [
    "df = read_data(r'../data/interim/pj_benchmark_2017-09-30.csv')\n",
    "df = clean_data(df)\n",
    "print(df.shape)\n",
    "df.head()"
   ]
  },
  {
   "cell_type": "code",
   "execution_count": 3,
   "metadata": {},
   "outputs": [
    {
     "name": "stdout",
     "output_type": "stream",
     "text": [
      "0: 246987\t1: 4630\n"
     ]
    }
   ],
   "source": [
    "describe_target(df, label='complainer')"
   ]
  },
  {
   "cell_type": "markdown",
   "metadata": {},
   "source": [
    "### Build model"
   ]
  },
  {
   "cell_type": "code",
   "execution_count": 4,
   "metadata": {},
   "outputs": [],
   "source": [
    "# features to be used by the model\n",
    "categorical_features = ['port_in_flag', 'inar_rate_plan', 'payment_method']#'contract_status'\n",
    "\n",
    "numeric_features = list(set(df.columns.tolist()) - set(categorical_features))\n",
    "numeric_features.remove('complainer')\n",
    "numeric_features.remove('cssocialsecno_encrypted')"
   ]
  },
  {
   "cell_type": "code",
   "execution_count": 7,
   "metadata": {},
   "outputs": [],
   "source": [
    "pp = preprocessor(numeric_features, categorical_features)\n",
    "clf = RandomForestClassifier(max_depth=10)\n",
    "\n",
    "model = build_model(pp, clf)"
   ]
  },
  {
   "cell_type": "markdown",
   "metadata": {},
   "source": [
    "### Fit model"
   ]
  },
  {
   "cell_type": "code",
   "execution_count": 8,
   "metadata": {},
   "outputs": [],
   "source": [
    "df_train, df_test = train_test_spl_df(df, 'complainer', test_size=0.2)"
   ]
  },
  {
   "cell_type": "code",
   "execution_count": 9,
   "metadata": {},
   "outputs": [],
   "source": [
    "model.fit(df_train.drop(columns='complainer'), df_train['complainer']);"
   ]
  },
  {
   "cell_type": "code",
   "execution_count": 10,
   "metadata": {},
   "outputs": [],
   "source": [
    "y_test = df_test['complainer']\n",
    "y_probas =  model.predict_proba(df_test.drop(columns='complainer'))"
   ]
  },
  {
   "cell_type": "markdown",
   "metadata": {},
   "source": [
    "### Define Classification Threshold"
   ]
  },
  {
   "cell_type": "code",
   "execution_count": 11,
   "metadata": {},
   "outputs": [],
   "source": [
    "precision, recall, thresholds = precision_recall_curve(y_test, y_probas[:,1])"
   ]
  },
  {
   "cell_type": "code",
   "execution_count": 12,
   "metadata": {},
   "outputs": [
    {
     "name": "stdout",
     "output_type": "stream",
     "text": [
      "Threshold chosen: 0.039557\n"
     ]
    }
   ],
   "source": [
    "min_precision = 0.15\n",
    "min_recall = None\n",
    "\n",
    "threshold = choose_threshold(0.15, precision, thresholds)\n",
    "print('Threshold chosen: %.6f' % threshold)"
   ]
  },
  {
   "cell_type": "code",
   "execution_count": 13,
   "metadata": {},
   "outputs": [],
   "source": [
    "y_pred = (y_probas[:,1] >= threshold).astype(int)"
   ]
  },
  {
   "cell_type": "markdown",
   "metadata": {},
   "source": [
    "## Scores - Random Forest"
   ]
  },
  {
   "cell_type": "code",
   "execution_count": 14,
   "metadata": {
    "scrolled": true
   },
   "outputs": [
    {
     "name": "stdout",
     "output_type": "stream",
     "text": [
      "RF Scores:\n",
      "Accuracy: 0.9576\n",
      "Balanced accuracy: 0.6362\n",
      "chi2: -1.4572\n",
      "Precision: 0.1501\n",
      "Recall: 0.3032\n",
      "F1 score: 0.2007\n"
     ]
    }
   ],
   "source": [
    "print('RF Scores:')\n",
    "print('Accuracy: %.4f' % (metrics.accuracy_score(y_test, y_pred)))\n",
    "print('Balanced accuracy: %.4f' % (metrics.balanced_accuracy_score(y_test, y_pred)))\n",
    "print('chi2: %.4f' % (metrics.r2_score(y_test, y_pred)))\n",
    "print('Precision: %.4f' % (metrics.precision_score(y_test, y_pred)))\n",
    "print('Recall: %.4f' % (metrics.recall_score(y_test, y_pred)))\n",
    "print('F1 score: %.4f' % (metrics.f1_score(y_test, y_pred)))"
   ]
  },
  {
   "cell_type": "markdown",
   "metadata": {},
   "source": [
    "### Confusion Matrix"
   ]
  },
  {
   "cell_type": "code",
   "execution_count": 15,
   "metadata": {},
   "outputs": [
    {
     "data": {
      "text/plain": [
       "<matplotlib.axes._subplots.AxesSubplot at 0x3874bd68>"
      ]
     },
     "execution_count": 15,
     "metadata": {},
     "output_type": "execute_result"
    },
    {
     "data": {
      "image/png": "[encoded data removed]",
      "text/plain": [
       "<Figure size 432x288 with 2 Axes>"
      ]
     },
     "metadata": {
      "needs_background": "light"
     },
     "output_type": "display_data"
    }
   ],
   "source": [
    "plot_confusion_matrix(y_test, y_pred);"
   ]
  },
  {
   "cell_type": "markdown",
   "metadata": {},
   "source": [
    "### ROC Curve"
   ]
  },
  {
   "cell_type": "code",
   "execution_count": 28,
   "metadata": {
    "scrolled": true
   },
   "outputs": [
    {
     "data": {
      "image/png": "[encoded data removed]",
      "text/plain": [
       "<Figure size 432x288 with 1 Axes>"
      ]
     },
     "metadata": {
      "needs_background": "light"
     },
     "output_type": "display_data"
    }
   ],
   "source": [
    "ax = plot_roc(y_test, y_probas, plot_micro = False, plot_macro = False, classes_to_plot=[1]);"
   ]
  },
  {
   "cell_type": "code",
   "execution_count": 29,
   "metadata": {},
   "outputs": [
    {
     "data": {
      "image/png": "[encoded data removed]",
      "text/plain": [
       "<Figure size 432x288 with 1 Axes>"
      ]
     },
     "metadata": {
      "needs_background": "light"
     },
     "output_type": "display_data"
    }
   ],
   "source": [
    "ax = plot_ks_statistic(y_test, y_probas);"
   ]
  },
  {
   "cell_type": "code",
   "execution_count": 31,
   "metadata": {},
   "outputs": [
    {
     "data": {
      "image/png": "[encoded data removed]",
      "text/plain": [
       "<Figure size 432x288 with 1 Axes>"
      ]
     },
     "metadata": {
      "needs_background": "light"
     },
     "output_type": "display_data"
    }
   ],
   "source": [
    "ax = sns.lineplot(x=thresholds, y=precision[:-1])\n",
    "ax = sns.lineplot(x=thresholds, y=recall[:-1])\n",
    "ax.set_title('Precision & Recall x Classification Threshold');"
   ]
  }
 ],
 "metadata": {
  "kernelspec": {
   "display_name": "Python 3",
   "language": "python",
   "name": "python3"
  },
  "language_info": {
   "codemirror_mode": {
    "name": "ipython",
    "version": 3
   },
   "file_extension": ".py",
   "mimetype": "text/x-python",
   "name": "python",
   "nbconvert_exporter": "python",
   "pygments_lexer": "ipython3",
   "version": "3.6.4"
  },
  "latex_envs": {
   "LaTeX_envs_menu_present": true,
   "autoclose": false,
   "autocomplete": true,
   "bibliofile": "biblio.bib",
   "cite_by": "apalike",
   "current_citInitial": 1,
   "eqLabelWithNumbers": true,
   "eqNumInitial": 1,
   "hotkeys": {
    "equation": "Ctrl-E",
    "itemize": "Ctrl-I"
   },
   "labels_anchors": false,
   "latex_user_defs": false,
   "report_style_numbering": false,
   "user_envs_cfg": false
  }
 },
 "nbformat": 4,
 "nbformat_minor": 4
}
