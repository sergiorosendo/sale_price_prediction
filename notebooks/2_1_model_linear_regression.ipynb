{
 "cells": [
  {
   "cell_type": "markdown",
   "metadata": {},
   "source": [
    "#### Imports"
   ]
  },
  {
   "cell_type": "code",
   "execution_count": 1,
   "metadata": {
    "scrolled": true
   },
   "outputs": [],
   "source": [
    "# activates python modules auto reload\n",
    "%load_ext autoreload\n",
    "%autoreload 2\n",
    "\n",
    "import sys\n",
    "sys.path.append('..')\n",
    "\n",
    "import warnings\n",
    "warnings.simplefilter(action='ignore', category=FutureWarning)\n",
    "warnings.simplefilter(action='ignore', category=DeprecationWarning)\n",
    "\n",
    "import shap\n",
    "import pandas as pd\n",
    "from math import sqrt\n",
    "from sklearn import metrics\n",
    "from sklearn.model_selection import train_test_split\n",
    "\n",
    "from src.features import preprocess\n",
    "from src.models import build_model"
   ]
  },
  {
   "cell_type": "markdown",
   "metadata": {},
   "source": [
    "#### Read Data"
   ]
  },
  {
   "cell_type": "code",
   "execution_count": 2,
   "metadata": {},
   "outputs": [
    {
     "name": "stdout",
     "output_type": "stream",
     "text": [
      "(18445, 16)\n"
     ]
    },
    {
     "data": {
      "text/html": [
       "<div>\n",
       "<style scoped>\n",
       "    .dataframe tbody tr th:only-of-type {\n",
       "        vertical-align: middle;\n",
       "    }\n",
       "\n",
       "    .dataframe tbody tr th {\n",
       "        vertical-align: top;\n",
       "    }\n",
       "\n",
       "    .dataframe thead th {\n",
       "        text-align: right;\n",
       "    }\n",
       "</style>\n",
       "<table border=\"1\" class=\"dataframe\">\n",
       "  <thead>\n",
       "    <tr style=\"text-align: right;\">\n",
       "      <th></th>\n",
       "      <th>price</th>\n",
       "      <th>num_bed</th>\n",
       "      <th>num_bath</th>\n",
       "      <th>size_house</th>\n",
       "      <th>size_lot</th>\n",
       "      <th>num_floors</th>\n",
       "      <th>is_waterfront</th>\n",
       "      <th>condition</th>\n",
       "      <th>size_basement</th>\n",
       "      <th>year_built</th>\n",
       "      <th>renovation_date</th>\n",
       "      <th>zip</th>\n",
       "      <th>latitude</th>\n",
       "      <th>longitude</th>\n",
       "      <th>avg_size_neighbor_houses</th>\n",
       "      <th>avg_size_neighbor_lot</th>\n",
       "    </tr>\n",
       "  </thead>\n",
       "  <tbody>\n",
       "    <tr>\n",
       "      <th>0</th>\n",
       "      <td>221900</td>\n",
       "      <td>3</td>\n",
       "      <td>1.00</td>\n",
       "      <td>1180</td>\n",
       "      <td>5650</td>\n",
       "      <td>1.0</td>\n",
       "      <td>0</td>\n",
       "      <td>3</td>\n",
       "      <td>0</td>\n",
       "      <td>1955</td>\n",
       "      <td>0</td>\n",
       "      <td>98178</td>\n",
       "      <td>47.511234</td>\n",
       "      <td>-122.256775</td>\n",
       "      <td>1340</td>\n",
       "      <td>5650</td>\n",
       "    </tr>\n",
       "    <tr>\n",
       "      <th>1</th>\n",
       "      <td>538000</td>\n",
       "      <td>3</td>\n",
       "      <td>2.25</td>\n",
       "      <td>2570</td>\n",
       "      <td>7242</td>\n",
       "      <td>2.0</td>\n",
       "      <td>0</td>\n",
       "      <td>3</td>\n",
       "      <td>400</td>\n",
       "      <td>1951</td>\n",
       "      <td>1991</td>\n",
       "      <td>98125</td>\n",
       "      <td>47.721023</td>\n",
       "      <td>-122.318862</td>\n",
       "      <td>1690</td>\n",
       "      <td>7639</td>\n",
       "    </tr>\n",
       "    <tr>\n",
       "      <th>2</th>\n",
       "      <td>180000</td>\n",
       "      <td>2</td>\n",
       "      <td>1.00</td>\n",
       "      <td>770</td>\n",
       "      <td>10000</td>\n",
       "      <td>1.0</td>\n",
       "      <td>0</td>\n",
       "      <td>3</td>\n",
       "      <td>0</td>\n",
       "      <td>1933</td>\n",
       "      <td>0</td>\n",
       "      <td>98028</td>\n",
       "      <td>47.737927</td>\n",
       "      <td>-122.233196</td>\n",
       "      <td>2720</td>\n",
       "      <td>8062</td>\n",
       "    </tr>\n",
       "  </tbody>\n",
       "</table>\n",
       "</div>"
      ],
      "text/plain": [
       "    price  num_bed  num_bath  size_house  size_lot  num_floors  is_waterfront  \\\n",
       "0  221900        3      1.00        1180      5650         1.0              0   \n",
       "1  538000        3      2.25        2570      7242         2.0              0   \n",
       "2  180000        2      1.00         770     10000         1.0              0   \n",
       "\n",
       "   condition  size_basement  year_built  renovation_date    zip   latitude  \\\n",
       "0          3              0        1955                0  98178  47.511234   \n",
       "1          3            400        1951             1991  98125  47.721023   \n",
       "2          3              0        1933                0  98028  47.737927   \n",
       "\n",
       "    longitude  avg_size_neighbor_houses  avg_size_neighbor_lot  \n",
       "0 -122.256775                      1340                   5650  \n",
       "1 -122.318862                      1690                   7639  \n",
       "2 -122.233196                      2720                   8062  "
      ]
     },
     "execution_count": 2,
     "metadata": {},
     "output_type": "execute_result"
    }
   ],
   "source": [
    "df = pd.read_csv('../data/house_sales.csv', nrows=None)\n",
    "df.drop_duplicates(inplace=True)\n",
    "df.reset_index(drop=True, inplace=True)\n",
    "print(df.shape)\n",
    "df.head(3)"
   ]
  },
  {
   "cell_type": "markdown",
   "metadata": {},
   "source": [
    "## Price prediction"
   ]
  },
  {
   "cell_type": "markdown",
   "metadata": {},
   "source": [
    "### Build model"
   ]
  },
  {
   "cell_type": "markdown",
   "metadata": {},
   "source": [
    "Lets define the features to be used in the prediction model, separating them between categorical and numeric."
   ]
  },
  {
   "cell_type": "code",
   "execution_count": 3,
   "metadata": {},
   "outputs": [],
   "source": [
    "num_feat = [\n",
    "    'num_bed',\n",
    "    'num_bath',\n",
    "    'size_house',\n",
    "    'size_lot',\n",
    "    'num_floors',\n",
    "    'condition',\n",
    "    'size_basement',\n",
    "    'year_built',\n",
    "    'renovation_date',\n",
    "    'latitude',\n",
    "    'longitude',\n",
    "    'avg_size_neighbor_houses',\n",
    "    'avg_size_neighbor_lot',\n",
    "    'is_waterfront'\n",
    "]\n",
    "\n",
    "cat_feat = [\n",
    "    'zip'\n",
    "]"
   ]
  },
  {
   "cell_type": "markdown",
   "metadata": {},
   "source": [
    "The features that are not making into the model and thus will have no effect on the outcome are:"
   ]
  },
  {
   "cell_type": "code",
   "execution_count": 4,
   "metadata": {},
   "outputs": [
    {
     "name": "stdout",
     "output_type": "stream",
     "text": [
      "price\n"
     ]
    }
   ],
   "source": [
    "print(*(set(df.columns.tolist()) - set(cat_feat) - set(num_feat)))"
   ]
  },
  {
   "cell_type": "markdown",
   "metadata": {},
   "source": [
    "#### Preprocess Data\n",
    "\n",
    "The preprocessor applies transformations to our features, so that they can be properly used by the model. \n",
    "\n",
    "Numerics have their gaps completed with the mean and their distribution stardadized. \n",
    "\n",
    "Categoricals have their gaps filled with the most frequent class and go trough one-hot-encoding. Encoding converts them to a numeric representation, each class becomes a standalone boolean feature."
   ]
  },
  {
   "cell_type": "code",
   "execution_count": 5,
   "metadata": {},
   "outputs": [
    {
     "name": "stdout",
     "output_type": "stream",
     "text": [
      "(18445, 85)\n"
     ]
    },
    {
     "data": {
      "text/html": [
       "<div>\n",
       "<style scoped>\n",
       "    .dataframe tbody tr th:only-of-type {\n",
       "        vertical-align: middle;\n",
       "    }\n",
       "\n",
       "    .dataframe tbody tr th {\n",
       "        vertical-align: top;\n",
       "    }\n",
       "\n",
       "    .dataframe thead th {\n",
       "        text-align: right;\n",
       "    }\n",
       "</style>\n",
       "<table border=\"1\" class=\"dataframe\">\n",
       "  <thead>\n",
       "    <tr style=\"text-align: right;\">\n",
       "      <th></th>\n",
       "      <th>num_bed</th>\n",
       "      <th>num_bath</th>\n",
       "      <th>size_house</th>\n",
       "      <th>size_lot</th>\n",
       "      <th>num_floors</th>\n",
       "      <th>condition</th>\n",
       "      <th>size_basement</th>\n",
       "      <th>year_built</th>\n",
       "      <th>renovation_date</th>\n",
       "      <th>latitude</th>\n",
       "      <th>...</th>\n",
       "      <th>zip_98148</th>\n",
       "      <th>zip_98155</th>\n",
       "      <th>zip_98166</th>\n",
       "      <th>zip_98168</th>\n",
       "      <th>zip_98177</th>\n",
       "      <th>zip_98178</th>\n",
       "      <th>zip_98188</th>\n",
       "      <th>zip_98198</th>\n",
       "      <th>zip_98199</th>\n",
       "      <th>price</th>\n",
       "    </tr>\n",
       "  </thead>\n",
       "  <tbody>\n",
       "    <tr>\n",
       "      <th>0</th>\n",
       "      <td>-0.398985</td>\n",
       "      <td>-1.448538</td>\n",
       "      <td>-0.980964</td>\n",
       "      <td>-0.224493</td>\n",
       "      <td>-0.914436</td>\n",
       "      <td>-0.630878</td>\n",
       "      <td>-0.661827</td>\n",
       "      <td>-0.544939</td>\n",
       "      <td>-0.210967</td>\n",
       "      <td>-0.352129</td>\n",
       "      <td>...</td>\n",
       "      <td>0.0</td>\n",
       "      <td>0.0</td>\n",
       "      <td>0.0</td>\n",
       "      <td>0.0</td>\n",
       "      <td>0.0</td>\n",
       "      <td>1.0</td>\n",
       "      <td>0.0</td>\n",
       "      <td>0.0</td>\n",
       "      <td>0.0</td>\n",
       "      <td>221900</td>\n",
       "    </tr>\n",
       "    <tr>\n",
       "      <th>1</th>\n",
       "      <td>-0.398985</td>\n",
       "      <td>0.169771</td>\n",
       "      <td>0.527510</td>\n",
       "      <td>-0.186423</td>\n",
       "      <td>0.934687</td>\n",
       "      <td>-0.630878</td>\n",
       "      <td>0.239844</td>\n",
       "      <td>-0.681179</td>\n",
       "      <td>4.727632</td>\n",
       "      <td>1.161900</td>\n",
       "      <td>...</td>\n",
       "      <td>0.0</td>\n",
       "      <td>0.0</td>\n",
       "      <td>0.0</td>\n",
       "      <td>0.0</td>\n",
       "      <td>0.0</td>\n",
       "      <td>0.0</td>\n",
       "      <td>0.0</td>\n",
       "      <td>0.0</td>\n",
       "      <td>0.0</td>\n",
       "      <td>538000</td>\n",
       "    </tr>\n",
       "    <tr>\n",
       "      <th>2</th>\n",
       "      <td>-1.469736</td>\n",
       "      <td>-1.448538</td>\n",
       "      <td>-1.425909</td>\n",
       "      <td>-0.120468</td>\n",
       "      <td>-0.914436</td>\n",
       "      <td>-0.630878</td>\n",
       "      <td>-0.661827</td>\n",
       "      <td>-1.294259</td>\n",
       "      <td>-0.210967</td>\n",
       "      <td>1.283894</td>\n",
       "      <td>...</td>\n",
       "      <td>0.0</td>\n",
       "      <td>0.0</td>\n",
       "      <td>0.0</td>\n",
       "      <td>0.0</td>\n",
       "      <td>0.0</td>\n",
       "      <td>0.0</td>\n",
       "      <td>0.0</td>\n",
       "      <td>0.0</td>\n",
       "      <td>0.0</td>\n",
       "      <td>180000</td>\n",
       "    </tr>\n",
       "  </tbody>\n",
       "</table>\n",
       "<p>3 rows × 85 columns</p>\n",
       "</div>"
      ],
      "text/plain": [
       "    num_bed  num_bath  size_house  size_lot  num_floors  condition  \\\n",
       "0 -0.398985 -1.448538   -0.980964 -0.224493   -0.914436  -0.630878   \n",
       "1 -0.398985  0.169771    0.527510 -0.186423    0.934687  -0.630878   \n",
       "2 -1.469736 -1.448538   -1.425909 -0.120468   -0.914436  -0.630878   \n",
       "\n",
       "   size_basement  year_built  renovation_date  latitude  ...  zip_98148  \\\n",
       "0      -0.661827   -0.544939        -0.210967 -0.352129  ...        0.0   \n",
       "1       0.239844   -0.681179         4.727632  1.161900  ...        0.0   \n",
       "2      -0.661827   -1.294259        -0.210967  1.283894  ...        0.0   \n",
       "\n",
       "   zip_98155  zip_98166  zip_98168  zip_98177  zip_98178  zip_98188  \\\n",
       "0        0.0        0.0        0.0        0.0        1.0        0.0   \n",
       "1        0.0        0.0        0.0        0.0        0.0        0.0   \n",
       "2        0.0        0.0        0.0        0.0        0.0        0.0   \n",
       "\n",
       "   zip_98198  zip_98199   price  \n",
       "0        0.0        0.0  221900  \n",
       "1        0.0        0.0  538000  \n",
       "2        0.0        0.0  180000  \n",
       "\n",
       "[3 rows x 85 columns]"
      ]
     },
     "execution_count": 5,
     "metadata": {},
     "output_type": "execute_result"
    }
   ],
   "source": [
    "df = preprocess(df, num_feat, cat_feat, 'price')\n",
    "print(df.shape)\n",
    "df.head(3)"
   ]
  },
  {
   "cell_type": "markdown",
   "metadata": {},
   "source": [
    "#### Split Training and Test sets"
   ]
  },
  {
   "cell_type": "code",
   "execution_count": 7,
   "metadata": {},
   "outputs": [
    {
     "name": "stdout",
     "output_type": "stream",
     "text": [
      "Train:\t14756 houses\n",
      "Test:\t3689 houses\n"
     ]
    }
   ],
   "source": [
    "df_train, df_test = train_test_split(df, test_size=0.2, random_state=8)\n",
    "\n",
    "print('Train:\\t%d houses' % df_train.shape[0])\n",
    "print('Test:\\t%d houses' % df_test.shape[0])"
   ]
  },
  {
   "cell_type": "markdown",
   "metadata": {},
   "source": [
    "#### Classifier\n",
    "The classifier will be a linear regression, as our data exploration showed a good linear relation between most features and the target variable."
   ]
  },
  {
   "cell_type": "code",
   "execution_count": 8,
   "metadata": {},
   "outputs": [],
   "source": [
    "from sklearn.linear_model import LinearRegression\n",
    "clf = LinearRegression()"
   ]
  },
  {
   "cell_type": "markdown",
   "metadata": {},
   "source": [
    "##### Fit"
   ]
  },
  {
   "cell_type": "code",
   "execution_count": 9,
   "metadata": {},
   "outputs": [],
   "source": [
    "clf.fit(df_train.drop(columns='price'), df_train['price']);"
   ]
  },
  {
   "cell_type": "markdown",
   "metadata": {},
   "source": [
    "### Make prediction"
   ]
  },
  {
   "cell_type": "code",
   "execution_count": 12,
   "metadata": {},
   "outputs": [],
   "source": [
    "y_test = df_test['price']\n",
    "y_pred =  clf.predict(df_test.drop(columns='price'))"
   ]
  },
  {
   "cell_type": "markdown",
   "metadata": {},
   "source": [
    "### Measure Quality"
   ]
  },
  {
   "cell_type": "code",
   "execution_count": 13,
   "metadata": {
    "scrolled": true
   },
   "outputs": [
    {
     "name": "stdout",
     "output_type": "stream",
     "text": [
      "LR Scores:\n",
      "R^2: 0.8080\n",
      "Sqrt Mean Squared Error: 159786.6970\n"
     ]
    }
   ],
   "source": [
    "from math import sqrt\n",
    "from sklearn import metrics\n",
    "\n",
    "print('LR Scores:')\n",
    "print('R^2: %.4f' % (metrics.r2_score(y_test, y_pred)))\n",
    "print('Sqrt Mean Squared Error: %.4f' % (sqrt(metrics.mean_squared_error(y_test, y_pred))))"
   ]
  },
  {
   "cell_type": "markdown",
   "metadata": {},
   "source": [
    "#### R squared\n",
    "R^2 stands for coeffiecient of determination, it indicates the strenght of the relation, as obtained by out model, between the independent variables and the target, it goes from 0 to 1, with 1 being best. \n",
    "\n",
    "The linear regression model obtained R^2 equal to 0.78, this is quite good and indicates that our model is doing a good job at predicting prices."
   ]
  },
  {
   "cell_type": "markdown",
   "metadata": {},
   "source": [
    "#### SqRoot of the Mean Squared Error\n",
    "The RMSR indicates how much our prediction usually differs from the real price. \n",
    "\n",
    "Being between 150k and 170k is a reasonable error.\n",
    "\n",
    "This value probably could be improved using more sophisticated models. It could also be considered the distribution of these errors, if they occur mostly on the pricier outliers, it would be less impactful."
   ]
  },
  {
   "cell_type": "markdown",
   "metadata": {},
   "source": [
    "### Model interpretation"
   ]
  },
  {
   "cell_type": "markdown",
   "metadata": {},
   "source": [
    "Interpreting the linear model coefficients."
   ]
  },
  {
   "cell_type": "code",
   "execution_count": 18,
   "metadata": {},
   "outputs": [
    {
     "data": {
      "text/html": [
       "<div>\n",
       "<style scoped>\n",
       "    .dataframe tbody tr th:only-of-type {\n",
       "        vertical-align: middle;\n",
       "    }\n",
       "\n",
       "    .dataframe tbody tr th {\n",
       "        vertical-align: top;\n",
       "    }\n",
       "\n",
       "    .dataframe thead th {\n",
       "        text-align: right;\n",
       "    }\n",
       "</style>\n",
       "<table border=\"1\" class=\"dataframe\">\n",
       "  <thead>\n",
       "    <tr style=\"text-align: right;\">\n",
       "      <th></th>\n",
       "      <th>Coefficient</th>\n",
       "    </tr>\n",
       "    <tr>\n",
       "      <th>Feature</th>\n",
       "      <th></th>\n",
       "    </tr>\n",
       "  </thead>\n",
       "  <tbody>\n",
       "    <tr>\n",
       "      <th>size_house</th>\n",
       "      <td>240123.170240</td>\n",
       "    </tr>\n",
       "    <tr>\n",
       "      <th>is_waterfront</th>\n",
       "      <td>72803.522353</td>\n",
       "    </tr>\n",
       "    <tr>\n",
       "      <th>avg_size_neighbor_houses</th>\n",
       "      <td>33163.255787</td>\n",
       "    </tr>\n",
       "    <tr>\n",
       "      <th>latitude</th>\n",
       "      <td>27825.369566</td>\n",
       "    </tr>\n",
       "    <tr>\n",
       "      <th>num_bath</th>\n",
       "      <td>21851.646931</td>\n",
       "    </tr>\n",
       "    <tr>\n",
       "      <th>condition</th>\n",
       "      <td>18414.590149</td>\n",
       "    </tr>\n",
       "    <tr>\n",
       "      <th>size_lot</th>\n",
       "      <td>13596.527613</td>\n",
       "    </tr>\n",
       "    <tr>\n",
       "      <th>renovation_date</th>\n",
       "      <td>10114.287521</td>\n",
       "    </tr>\n",
       "    <tr>\n",
       "      <th>avg_size_neighbor_lot</th>\n",
       "      <td>-3236.398929</td>\n",
       "    </tr>\n",
       "    <tr>\n",
       "      <th>year_built</th>\n",
       "      <td>-5269.184571</td>\n",
       "    </tr>\n",
       "  </tbody>\n",
       "</table>\n",
       "</div>"
      ],
      "text/plain": [
       "                            Coefficient\n",
       "Feature                                \n",
       "size_house                240123.170240\n",
       "is_waterfront              72803.522353\n",
       "avg_size_neighbor_houses   33163.255787\n",
       "latitude                   27825.369566\n",
       "num_bath                   21851.646931\n",
       "condition                  18414.590149\n",
       "size_lot                   13596.527613\n",
       "renovation_date            10114.287521\n",
       "avg_size_neighbor_lot      -3236.398929\n",
       "year_built                 -5269.184571"
      ]
     },
     "execution_count": 18,
     "metadata": {},
     "output_type": "execute_result"
    }
   ],
   "source": [
    "from src.visualization.visualize import lr_coeff\n",
    "\n",
    "coeff = lr_coeff(df_test.columns, clf)\n",
    "coeff.head(10)"
   ]
  },
  {
   "cell_type": "markdown",
   "metadata": {},
   "source": [
    "House size and waterfront status are the most important factors for the price of a home, as expected being larger and water front means a more expensive property. \n",
    "\n",
    "The size of nearby homes also plays a important role, larger nearby homes increase the property price tag, indicating that rich neiborhoods are desired by buyers. \n",
    "\n",
    "Higher latitudes increase price, so the north region is preferred. \n",
    "\n",
    "As for the house's interior space, the number of bathrooms was the most related to the price tag. Possibly due to its inherit relation with the house size."
   ]
  }
 ],
 "metadata": {
  "kernelspec": {
   "display_name": "Python 3",
   "language": "python",
   "name": "python3"
  },
  "language_info": {
   "codemirror_mode": {
    "name": "ipython",
    "version": 3
   },
   "file_extension": ".py",
   "mimetype": "text/x-python",
   "name": "python",
   "nbconvert_exporter": "python",
   "pygments_lexer": "ipython3",
   "version": "3.8.3"
  },
  "latex_envs": {
   "LaTeX_envs_menu_present": true,
   "autoclose": false,
   "autocomplete": true,
   "bibliofile": "biblio.bib",
   "cite_by": "apalike",
   "current_citInitial": 1,
   "eqLabelWithNumbers": true,
   "eqNumInitial": 1,
   "hotkeys": {
    "equation": "Ctrl-E",
    "itemize": "Ctrl-I"
   },
   "labels_anchors": false,
   "latex_user_defs": false,
   "report_style_numbering": false,
   "user_envs_cfg": false
  }
 },
 "nbformat": 4,
 "nbformat_minor": 4
}
