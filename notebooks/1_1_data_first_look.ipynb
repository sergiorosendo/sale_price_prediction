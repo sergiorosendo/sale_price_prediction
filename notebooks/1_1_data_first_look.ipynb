{
 "cells": [
  {
   "cell_type": "markdown",
   "metadata": {},
   "source": [
    "#### Imports"
   ]
  },
  {
   "cell_type": "code",
   "execution_count": 1,
   "metadata": {
    "scrolled": true
   },
   "outputs": [],
   "source": [
    "import sys\n",
    "sys.path.append('..')"
   ]
  },
  {
   "cell_type": "markdown",
   "metadata": {},
   "source": [
    "## Data Quality\n",
    "### Read Data"
   ]
  },
  {
   "cell_type": "code",
   "execution_count": 2,
   "metadata": {},
   "outputs": [
    {
     "name": "stdout",
     "output_type": "stream",
     "text": [
      "(18448, 16)\n"
     ]
    },
    {
     "data": {
      "text/html": [
       "<div>\n",
       "<style scoped>\n",
       "    .dataframe tbody tr th:only-of-type {\n",
       "        vertical-align: middle;\n",
       "    }\n",
       "\n",
       "    .dataframe tbody tr th {\n",
       "        vertical-align: top;\n",
       "    }\n",
       "\n",
       "    .dataframe thead th {\n",
       "        text-align: right;\n",
       "    }\n",
       "</style>\n",
       "<table border=\"1\" class=\"dataframe\">\n",
       "  <thead>\n",
       "    <tr style=\"text-align: right;\">\n",
       "      <th></th>\n",
       "      <th>price</th>\n",
       "      <th>num_bed</th>\n",
       "      <th>num_bath</th>\n",
       "      <th>size_house</th>\n",
       "      <th>size_lot</th>\n",
       "      <th>num_floors</th>\n",
       "      <th>is_waterfront</th>\n",
       "      <th>condition</th>\n",
       "      <th>size_basement</th>\n",
       "      <th>year_built</th>\n",
       "      <th>renovation_date</th>\n",
       "      <th>zip</th>\n",
       "      <th>latitude</th>\n",
       "      <th>longitude</th>\n",
       "      <th>avg_size_neighbor_houses</th>\n",
       "      <th>avg_size_neighbor_lot</th>\n",
       "    </tr>\n",
       "  </thead>\n",
       "  <tbody>\n",
       "    <tr>\n",
       "      <th>0</th>\n",
       "      <td>221900</td>\n",
       "      <td>3</td>\n",
       "      <td>1.00</td>\n",
       "      <td>1180</td>\n",
       "      <td>5650</td>\n",
       "      <td>1.0</td>\n",
       "      <td>0</td>\n",
       "      <td>3</td>\n",
       "      <td>0</td>\n",
       "      <td>1955</td>\n",
       "      <td>0</td>\n",
       "      <td>98178</td>\n",
       "      <td>47.511234</td>\n",
       "      <td>-122.256775</td>\n",
       "      <td>1340</td>\n",
       "      <td>5650</td>\n",
       "    </tr>\n",
       "    <tr>\n",
       "      <th>1</th>\n",
       "      <td>538000</td>\n",
       "      <td>3</td>\n",
       "      <td>2.25</td>\n",
       "      <td>2570</td>\n",
       "      <td>7242</td>\n",
       "      <td>2.0</td>\n",
       "      <td>0</td>\n",
       "      <td>3</td>\n",
       "      <td>400</td>\n",
       "      <td>1951</td>\n",
       "      <td>1991</td>\n",
       "      <td>98125</td>\n",
       "      <td>47.721023</td>\n",
       "      <td>-122.318862</td>\n",
       "      <td>1690</td>\n",
       "      <td>7639</td>\n",
       "    </tr>\n",
       "    <tr>\n",
       "      <th>2</th>\n",
       "      <td>180000</td>\n",
       "      <td>2</td>\n",
       "      <td>1.00</td>\n",
       "      <td>770</td>\n",
       "      <td>10000</td>\n",
       "      <td>1.0</td>\n",
       "      <td>0</td>\n",
       "      <td>3</td>\n",
       "      <td>0</td>\n",
       "      <td>1933</td>\n",
       "      <td>0</td>\n",
       "      <td>98028</td>\n",
       "      <td>47.737927</td>\n",
       "      <td>-122.233196</td>\n",
       "      <td>2720</td>\n",
       "      <td>8062</td>\n",
       "    </tr>\n",
       "    <tr>\n",
       "      <th>3</th>\n",
       "      <td>604000</td>\n",
       "      <td>4</td>\n",
       "      <td>3.00</td>\n",
       "      <td>1960</td>\n",
       "      <td>5000</td>\n",
       "      <td>1.0</td>\n",
       "      <td>0</td>\n",
       "      <td>5</td>\n",
       "      <td>910</td>\n",
       "      <td>1965</td>\n",
       "      <td>0</td>\n",
       "      <td>98136</td>\n",
       "      <td>47.520820</td>\n",
       "      <td>-122.393185</td>\n",
       "      <td>1360</td>\n",
       "      <td>5000</td>\n",
       "    </tr>\n",
       "    <tr>\n",
       "      <th>4</th>\n",
       "      <td>510000</td>\n",
       "      <td>3</td>\n",
       "      <td>2.00</td>\n",
       "      <td>1680</td>\n",
       "      <td>8080</td>\n",
       "      <td>1.0</td>\n",
       "      <td>0</td>\n",
       "      <td>3</td>\n",
       "      <td>0</td>\n",
       "      <td>1987</td>\n",
       "      <td>0</td>\n",
       "      <td>98074</td>\n",
       "      <td>47.616812</td>\n",
       "      <td>-122.044901</td>\n",
       "      <td>1800</td>\n",
       "      <td>7503</td>\n",
       "    </tr>\n",
       "  </tbody>\n",
       "</table>\n",
       "</div>"
      ],
      "text/plain": [
       "    price  num_bed  num_bath  size_house  size_lot  num_floors  is_waterfront  \\\n",
       "0  221900        3      1.00        1180      5650         1.0              0   \n",
       "1  538000        3      2.25        2570      7242         2.0              0   \n",
       "2  180000        2      1.00         770     10000         1.0              0   \n",
       "3  604000        4      3.00        1960      5000         1.0              0   \n",
       "4  510000        3      2.00        1680      8080         1.0              0   \n",
       "\n",
       "   condition  size_basement  year_built  renovation_date    zip   latitude  \\\n",
       "0          3              0        1955                0  98178  47.511234   \n",
       "1          3            400        1951             1991  98125  47.721023   \n",
       "2          3              0        1933                0  98028  47.737927   \n",
       "3          5            910        1965                0  98136  47.520820   \n",
       "4          3              0        1987                0  98074  47.616812   \n",
       "\n",
       "    longitude  avg_size_neighbor_houses  avg_size_neighbor_lot  \n",
       "0 -122.256775                      1340                   5650  \n",
       "1 -122.318862                      1690                   7639  \n",
       "2 -122.233196                      2720                   8062  \n",
       "3 -122.393185                      1360                   5000  \n",
       "4 -122.044901                      1800                   7503  "
      ]
     },
     "execution_count": 2,
     "metadata": {},
     "output_type": "execute_result"
    }
   ],
   "source": [
    "import pandas as pd\n",
    "\n",
    "df = pd.read_csv('../data/house_sales.csv')\n",
    "print(df.shape)\n",
    "df.head()"
   ]
  },
  {
   "cell_type": "markdown",
   "metadata": {},
   "source": [
    "### Missing Values"
   ]
  },
  {
   "cell_type": "code",
   "execution_count": 3,
   "metadata": {},
   "outputs": [
    {
     "name": "stdout",
     "output_type": "stream",
     "text": [
      "Found 0 rows with missing values.\n"
     ]
    }
   ],
   "source": [
    "print('Found %d rows with missing values.' % df[df.isnull().any(axis=1)].shape[0])"
   ]
  },
  {
   "cell_type": "markdown",
   "metadata": {},
   "source": [
    "If the data set contained missing values, we would need to take care of them before making classifications.\n",
    "\n",
    "The strategy would depend on the frequency and expected impact of the missing information. Faulty rows or columns could be entirely discarded or have their gaps completed with a reasonable value, like the feature's mean.\n",
    "\n",
    "As the set is 100% complete, these actions are not necessary."
   ]
  },
  {
   "cell_type": "markdown",
   "metadata": {},
   "source": [
    "### Duplicated rows"
   ]
  },
  {
   "cell_type": "code",
   "execution_count": 4,
   "metadata": {},
   "outputs": [
    {
     "data": {
      "text/html": [
       "<div>\n",
       "<style scoped>\n",
       "    .dataframe tbody tr th:only-of-type {\n",
       "        vertical-align: middle;\n",
       "    }\n",
       "\n",
       "    .dataframe tbody tr th {\n",
       "        vertical-align: top;\n",
       "    }\n",
       "\n",
       "    .dataframe thead th {\n",
       "        text-align: right;\n",
       "    }\n",
       "</style>\n",
       "<table border=\"1\" class=\"dataframe\">\n",
       "  <thead>\n",
       "    <tr style=\"text-align: right;\">\n",
       "      <th></th>\n",
       "      <th>price</th>\n",
       "      <th>num_bed</th>\n",
       "      <th>num_bath</th>\n",
       "      <th>size_house</th>\n",
       "      <th>size_lot</th>\n",
       "      <th>num_floors</th>\n",
       "      <th>is_waterfront</th>\n",
       "      <th>condition</th>\n",
       "      <th>size_basement</th>\n",
       "      <th>year_built</th>\n",
       "      <th>renovation_date</th>\n",
       "      <th>zip</th>\n",
       "      <th>latitude</th>\n",
       "      <th>longitude</th>\n",
       "      <th>avg_size_neighbor_houses</th>\n",
       "      <th>avg_size_neighbor_lot</th>\n",
       "    </tr>\n",
       "  </thead>\n",
       "  <tbody>\n",
       "    <tr>\n",
       "      <th>3363</th>\n",
       "      <td>550000</td>\n",
       "      <td>4</td>\n",
       "      <td>1.75</td>\n",
       "      <td>2410</td>\n",
       "      <td>8447</td>\n",
       "      <td>2.0</td>\n",
       "      <td>0</td>\n",
       "      <td>4</td>\n",
       "      <td>350</td>\n",
       "      <td>1936</td>\n",
       "      <td>1980</td>\n",
       "      <td>98074</td>\n",
       "      <td>47.649901</td>\n",
       "      <td>-122.088260</td>\n",
       "      <td>2520</td>\n",
       "      <td>14789</td>\n",
       "    </tr>\n",
       "    <tr>\n",
       "      <th>3364</th>\n",
       "      <td>550000</td>\n",
       "      <td>4</td>\n",
       "      <td>1.75</td>\n",
       "      <td>2410</td>\n",
       "      <td>8447</td>\n",
       "      <td>2.0</td>\n",
       "      <td>0</td>\n",
       "      <td>4</td>\n",
       "      <td>350</td>\n",
       "      <td>1936</td>\n",
       "      <td>1980</td>\n",
       "      <td>98074</td>\n",
       "      <td>47.649901</td>\n",
       "      <td>-122.088260</td>\n",
       "      <td>2520</td>\n",
       "      <td>14789</td>\n",
       "    </tr>\n",
       "    <tr>\n",
       "      <th>12746</th>\n",
       "      <td>585000</td>\n",
       "      <td>3</td>\n",
       "      <td>2.50</td>\n",
       "      <td>2290</td>\n",
       "      <td>5089</td>\n",
       "      <td>2.0</td>\n",
       "      <td>0</td>\n",
       "      <td>3</td>\n",
       "      <td>0</td>\n",
       "      <td>2001</td>\n",
       "      <td>0</td>\n",
       "      <td>98006</td>\n",
       "      <td>47.544285</td>\n",
       "      <td>-122.171537</td>\n",
       "      <td>2290</td>\n",
       "      <td>7984</td>\n",
       "    </tr>\n",
       "    <tr>\n",
       "      <th>12747</th>\n",
       "      <td>585000</td>\n",
       "      <td>3</td>\n",
       "      <td>2.50</td>\n",
       "      <td>2290</td>\n",
       "      <td>5089</td>\n",
       "      <td>2.0</td>\n",
       "      <td>0</td>\n",
       "      <td>3</td>\n",
       "      <td>0</td>\n",
       "      <td>2001</td>\n",
       "      <td>0</td>\n",
       "      <td>98006</td>\n",
       "      <td>47.544285</td>\n",
       "      <td>-122.171537</td>\n",
       "      <td>2290</td>\n",
       "      <td>7984</td>\n",
       "    </tr>\n",
       "    <tr>\n",
       "      <th>17129</th>\n",
       "      <td>555000</td>\n",
       "      <td>3</td>\n",
       "      <td>2.50</td>\n",
       "      <td>1940</td>\n",
       "      <td>3211</td>\n",
       "      <td>2.0</td>\n",
       "      <td>0</td>\n",
       "      <td>3</td>\n",
       "      <td>0</td>\n",
       "      <td>2009</td>\n",
       "      <td>0</td>\n",
       "      <td>98027</td>\n",
       "      <td>47.564378</td>\n",
       "      <td>-122.093255</td>\n",
       "      <td>1880</td>\n",
       "      <td>3078</td>\n",
       "    </tr>\n",
       "  </tbody>\n",
       "</table>\n",
       "</div>"
      ],
      "text/plain": [
       "        price  num_bed  num_bath  size_house  size_lot  num_floors  \\\n",
       "3363   550000        4      1.75        2410      8447         2.0   \n",
       "3364   550000        4      1.75        2410      8447         2.0   \n",
       "12746  585000        3      2.50        2290      5089         2.0   \n",
       "12747  585000        3      2.50        2290      5089         2.0   \n",
       "17129  555000        3      2.50        1940      3211         2.0   \n",
       "\n",
       "       is_waterfront  condition  size_basement  year_built  renovation_date  \\\n",
       "3363               0          4            350        1936             1980   \n",
       "3364               0          4            350        1936             1980   \n",
       "12746              0          3              0        2001                0   \n",
       "12747              0          3              0        2001                0   \n",
       "17129              0          3              0        2009                0   \n",
       "\n",
       "         zip   latitude   longitude  avg_size_neighbor_houses  \\\n",
       "3363   98074  47.649901 -122.088260                      2520   \n",
       "3364   98074  47.649901 -122.088260                      2520   \n",
       "12746  98006  47.544285 -122.171537                      2290   \n",
       "12747  98006  47.544285 -122.171537                      2290   \n",
       "17129  98027  47.564378 -122.093255                      1880   \n",
       "\n",
       "       avg_size_neighbor_lot  \n",
       "3363                   14789  \n",
       "3364                   14789  \n",
       "12746                   7984  \n",
       "12747                   7984  \n",
       "17129                   3078  "
      ]
     },
     "execution_count": 4,
     "metadata": {},
     "output_type": "execute_result"
    }
   ],
   "source": [
    "df[df.duplicated(keep=False)].head()"
   ]
  },
  {
   "cell_type": "markdown",
   "metadata": {},
   "source": [
    "There are some duplicated rows in our data set, we should keep the first occurrence and drop the rest."
   ]
  },
  {
   "cell_type": "code",
   "execution_count": 5,
   "metadata": {},
   "outputs": [
    {
     "name": "stdout",
     "output_type": "stream",
     "text": [
      "Dropped 3 duplicates.\n"
     ]
    }
   ],
   "source": [
    "size_0 = df.shape[0]\n",
    "df.drop_duplicates(inplace=True)\n",
    "\n",
    "print('Dropped %d duplicates.' % (size_0 - df.shape[0]))"
   ]
  },
  {
   "cell_type": "markdown",
   "metadata": {},
   "source": [
    "## Price Distribution\n",
    "\n",
    "Now let us take a look at the distribution of our target variable."
   ]
  },
  {
   "cell_type": "code",
   "execution_count": 6,
   "metadata": {},
   "outputs": [
    {
     "data": {
      "image/png": "[encoded data removed]",
      "text/plain": [
       "<Figure size 864x288 with 1 Axes>"
      ]
     },
     "metadata": {
      "needs_background": "light"
     },
     "output_type": "display_data"
    }
   ],
   "source": [
    "from src.visualization.visualize import plot_price_dist\n",
    "\n",
    "plot_price_dist(df)"
   ]
  },
  {
   "cell_type": "markdown",
   "metadata": {},
   "source": [
    "Most prices are between 250k and 600k, with a reasonable number of occurrences above that and below 2kk."
   ]
  },
  {
   "cell_type": "markdown",
   "metadata": {},
   "source": [
    "### Data Analisys\n",
    "\n",
    "To understand the data and check for any abnormalities, in the following notebooks we explore each feature's relation to the price tag."
   ]
  }
 ],
 "metadata": {
  "kernelspec": {
   "display_name": "Python 3",
   "language": "python",
   "name": "python3"
  },
  "language_info": {
   "codemirror_mode": {
    "name": "ipython",
    "version": 3
   },
   "file_extension": ".py",
   "mimetype": "text/x-python",
   "name": "python",
   "nbconvert_exporter": "python",
   "pygments_lexer": "ipython3",
   "version": "3.8.3"
  },
  "latex_envs": {
   "LaTeX_envs_menu_present": true,
   "autoclose": false,
   "autocomplete": true,
   "bibliofile": "biblio.bib",
   "cite_by": "apalike",
   "current_citInitial": 1,
   "eqLabelWithNumbers": true,
   "eqNumInitial": 1,
   "hotkeys": {
    "equation": "Ctrl-E",
    "itemize": "Ctrl-I"
   },
   "labels_anchors": false,
   "latex_user_defs": false,
   "report_style_numbering": false,
   "user_envs_cfg": false
  }
 },
 "nbformat": 4,
 "nbformat_minor": 4
}
